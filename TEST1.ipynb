{
 "cells": [
  {
   "cell_type": "code",
   "execution_count": 45,
   "id": "ff2069d6",
   "metadata": {},
   "outputs": [],
   "source": [
    "import requests\n",
    "from bs4 import BeautifulSoup\n",
    "import time\n"
   ]
  },
  {
   "cell_type": "code",
   "execution_count": 46,
   "id": "b48e71c6",
   "metadata": {},
   "outputs": [
    {
     "name": "stdout",
     "output_type": "stream",
     "text": [
      "<Response [200]>\n",
      "Page: 0\n",
      "<Response [200]>\n",
      "Page: 1\n",
      "<Response [200]>\n",
      "Page: 2\n",
      "<Response [200]>\n",
      "Page: 3\n",
      "<Response [200]>\n",
      "Page: 4\n",
      "<Response [200]>\n",
      "Page: 5\n",
      "<Response [200]>\n",
      "Page: 6\n",
      "<Response [200]>\n",
      "Page: 7\n",
      "<Response [200]>\n",
      "Page: 8\n",
      "<Response [200]>\n",
      "Page: 9\n",
      "<Response [200]>\n",
      "Page: 10\n",
      "<Response [200]>\n",
      "Page: 11\n",
      "<Response [200]>\n",
      "Page: 12\n",
      "<Response [200]>\n",
      "Page: 13\n",
      "<Response [200]>\n",
      "Page: 14\n",
      "<Response [200]>\n",
      "Page: 15\n",
      "<Response [200]>\n",
      "Page: 16\n",
      "<Response [200]>\n",
      "Page: 17\n",
      "<Response [200]>\n",
      "Page: 18\n",
      "<Response [200]>\n",
      "Page: 19\n",
      "<Response [200]>\n",
      "Page: 20\n",
      "<Response [200]>\n",
      "Page: 21\n",
      "<Response [200]>\n",
      "Page: 22\n",
      "<Response [200]>\n",
      "Page: 23\n",
      "<Response [200]>\n",
      "Page: 24\n",
      "<Response [200]>\n",
      "Page: 25\n",
      "246\n"
     ]
    }
   ],
   "source": [
    "\n",
    "links = []\n",
    "for i in range(26):\n",
    "    url = 'http://example.python-scraping.com/places/default/index/' + str(i)\n",
    "    response = requests.get(url)\n",
    "    print(response)\n",
    "    if response.ok:\n",
    "        print('Page: ' + str(i))\n",
    "        soup = BeautifulSoup(response.text, 'lxml')\n",
    "        tds = soup.findAll('td')\n",
    "    \n",
    "        for td in tds:\n",
    "            a = td.find('a')\n",
    "            link = a['href']\n",
    "            links.append('http://example.python-scraping.com' + link)\n",
    "            time.sleep(1)\n",
    "print(len(links))\n",
    "    \n",
    "    "
   ]
  },
  {
   "cell_type": "code",
   "execution_count": null,
   "id": "29c15ab1",
   "metadata": {},
   "outputs": [],
   "source": []
  },
  {
   "cell_type": "code",
   "execution_count": null,
   "id": "27223354",
   "metadata": {},
   "outputs": [],
   "source": []
  }
 ],
 "metadata": {
  "kernelspec": {
   "display_name": "Python 3 (ipykernel)",
   "language": "python",
   "name": "python3"
  },
  "language_info": {
   "codemirror_mode": {
    "name": "ipython",
    "version": 3
   },
   "file_extension": ".py",
   "mimetype": "text/x-python",
   "name": "python",
   "nbconvert_exporter": "python",
   "pygments_lexer": "ipython3",
   "version": "3.9.7"
  }
 },
 "nbformat": 4,
 "nbformat_minor": 5
}
